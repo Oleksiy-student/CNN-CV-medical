{
 "cells": [
  {
   "cell_type": "code",
   "execution_count": 14,
   "id": "initial_id",
   "metadata": {
    "collapsed": true,
    "ExecuteTime": {
     "end_time": "2023-10-31T19:01:45.698462600Z",
     "start_time": "2023-10-31T19:01:45.684463500Z"
    }
   },
   "outputs": [],
   "source": [
    "from torchvision.models import resnet34\n",
    "from torchvision.datasets import ImageFolder\n",
    "from torch.utils.data import DataLoader\n",
    "from torchvision.transforms import ToTensor\n",
    "import torch\n",
    "\n"
   ]
  },
  {
   "cell_type": "markdown",
   "source": [
    "https://www.reddit.com/r/MachineLearning/comments/kvs1ex/d_here_are_17_ways_of_making_pytorch_training/\n",
    "Tried some of the trick in this post for 1 epoch. ~17 seconds is with Cuda on my GPU (RTX 3070) \n",
    "Defining num_workers and pin_memory made the performance worse with resnet34, may be different with other models.\n",
    "Same with torch.backends.cudnn.benchmark = True\n",
    "Increasing the batch_size to 128 sometimes increased the performance from ~17secs -> ~16 but not always"
   ],
   "metadata": {
    "collapsed": false
   },
   "id": "dc31c4e1201df0f8"
  },
  {
   "cell_type": "code",
   "execution_count": 15,
   "outputs": [
    {
     "name": "stdout",
     "output_type": "stream",
     "text": [
      "Data loaded\n"
     ]
    }
   ],
   "source": [
    "device = torch.device(\"cuda\" if torch.cuda.is_available() else \"cpu\")\n",
    "\n",
    "dataset = ImageFolder(\"./Colorectal Cancer\", transform=ToTensor())\n",
    "train_set, validation_set, test_set = torch.utils.data.random_split(dataset, [0.8, 0.1, 0.1])\n",
    "train_loader = DataLoader(train_set, shuffle=True, batch_size=64)\n",
    "validation_loader = DataLoader(validation_set, shuffle=True, batch_size=64)\n",
    "test_loader = DataLoader(test_set, shuffle=True, batch_size=64)\n",
    "print(\"Data loaded\")"
   ],
   "metadata": {
    "collapsed": false,
    "ExecuteTime": {
     "end_time": "2023-10-31T19:01:45.763462300Z",
     "start_time": "2023-10-31T19:01:45.691464300Z"
    }
   },
   "id": "a6b79f74273a67e6"
  },
  {
   "cell_type": "code",
   "execution_count": 16,
   "outputs": [],
   "source": [
    "\n",
    "model = resnet34(num_classes=3).to(device)\n",
    "torch.manual_seed(0)\n",
    "optimizer = torch.optim.SGD(model.parameters(), lr=0.01, momentum=0.9, weight_decay=0.001)\n",
    "loss = torch.nn.CrossEntropyLoss()\n",
    "\n",
    "num_epoch = 1"
   ],
   "metadata": {
    "collapsed": false,
    "ExecuteTime": {
     "end_time": "2023-10-31T19:01:46.014494100Z",
     "start_time": "2023-10-31T19:01:45.736462800Z"
    }
   },
   "id": "c121facff5630284"
  },
  {
   "cell_type": "code",
   "execution_count": 17,
   "outputs": [
    {
     "name": "stdout",
     "output_type": "stream",
     "text": [
      "minibatch loss: 1.097245693206787\n",
      "minibatch loss: 1.1632064580917358\n",
      "minibatch loss: 1.0653982162475586\n",
      "minibatch loss: 1.2783136367797852\n",
      "minibatch loss: 1.195480465888977\n",
      "minibatch loss: 1.1551282405853271\n",
      "minibatch loss: 1.0241748094558716\n",
      "minibatch loss: 0.864782989025116\n",
      "minibatch loss: 0.7977977395057678\n",
      "minibatch loss: 0.8401590585708618\n",
      "minibatch loss: 0.8976565599441528\n",
      "minibatch loss: 0.8312989473342896\n",
      "minibatch loss: 0.8491672873497009\n",
      "minibatch loss: 0.9039831757545471\n",
      "minibatch loss: 0.7387800812721252\n",
      "minibatch loss: 0.9395275712013245\n",
      "minibatch loss: 0.8093081712722778\n",
      "minibatch loss: 0.9066091179847717\n",
      "minibatch loss: 0.7404758930206299\n",
      "minibatch loss: 0.800789475440979\n",
      "minibatch loss: 0.756416916847229\n",
      "minibatch loss: 0.9358212947845459\n",
      "minibatch loss: 0.6864200830459595\n",
      "minibatch loss: 0.48586544394493103\n",
      "minibatch loss: 0.768983006477356\n",
      "minibatch loss: 1.3711438179016113\n",
      "minibatch loss: 0.525038480758667\n",
      "minibatch loss: 0.6649064421653748\n",
      "minibatch loss: 0.6287442445755005\n",
      "minibatch loss: 0.6086170673370361\n",
      "minibatch loss: 0.6814053058624268\n",
      "minibatch loss: 0.6307246685028076\n",
      "minibatch loss: 0.47760772705078125\n",
      "minibatch loss: 0.537927508354187\n",
      "minibatch loss: 0.5999597311019897\n",
      "minibatch loss: 0.7601943612098694\n",
      "minibatch loss: 0.49581676721572876\n",
      "minibatch loss: 0.7217844724655151\n",
      "minibatch loss: 0.5351070165634155\n",
      "minibatch loss: 0.44182127714157104\n",
      "minibatch loss: 0.3611154854297638\n",
      "minibatch loss: 0.5181752443313599\n",
      "minibatch loss: 0.3954755961894989\n",
      "minibatch loss: 0.6709198355674744\n",
      "minibatch loss: 0.6106817722320557\n",
      "minibatch loss: 0.4496093988418579\n",
      "minibatch loss: 0.649088442325592\n",
      "minibatch loss: 0.650149941444397\n",
      "minibatch loss: 0.5598971843719482\n",
      "minibatch loss: 0.7681276798248291\n",
      "minibatch loss: 0.4288773536682129\n",
      "minibatch loss: 0.32878440618515015\n",
      "minibatch loss: 0.44022274017333984\n",
      "minibatch loss: 0.34090787172317505\n",
      "minibatch loss: 0.49405694007873535\n",
      "minibatch loss: 0.5494742393493652\n",
      "minibatch loss: 0.35276344418525696\n",
      "minibatch loss: 0.32053014636039734\n",
      "minibatch loss: 0.4954725503921509\n",
      "minibatch loss: 0.23119787871837616\n",
      "minibatch loss: 0.40224647521972656\n",
      "minibatch loss: 0.2966189384460449\n",
      "minibatch loss: 0.35835742950439453\n",
      "minibatch loss: 0.48924708366394043\n",
      "minibatch loss: 0.5319079756736755\n",
      "minibatch loss: 0.4631301462650299\n",
      "minibatch loss: 0.5401647090911865\n",
      "minibatch loss: 0.4892294406890869\n",
      "minibatch loss: 0.3952130079269409\n",
      "minibatch loss: 0.5625132322311401\n",
      "minibatch loss: 0.6936464309692383\n",
      "minibatch loss: 0.33190256357192993\n",
      "minibatch loss: 0.2667463421821594\n",
      "minibatch loss: 0.6299716830253601\n",
      "minibatch loss: 0.41488343477249146\n",
      "Epoch 0: last batch loss: 0.41488343477249146\n"
     ]
    }
   ],
   "source": [
    "scaler = torch.cuda.amp.GradScaler()\n",
    "for epoch in range(num_epoch):\n",
    "    \n",
    "    # Pass an epoch over the training data in batch_size chunks\n",
    "    for features, labels in train_loader:\n",
    "        features = features.to(device)\n",
    "        labels = labels.to(device)\n",
    "\n",
    "        # forward\n",
    "        y_pred = model(features)\n",
    "        l = loss(y_pred, labels)\n",
    "        model.zero_grad()\n",
    "        # backprop and step\n",
    "        l.backward()\n",
    "        optimizer.step()\n",
    "        print(f\"minibatch loss: {l}\")\n",
    "    print(f\"Epoch {epoch}: last batch loss: {l}\")"
   ],
   "metadata": {
    "collapsed": false,
    "ExecuteTime": {
     "end_time": "2023-10-31T19:02:03.762466700Z",
     "start_time": "2023-10-31T19:01:46.016462700Z"
    }
   },
   "id": "2ae2be57003fcc8e"
  },
  {
   "cell_type": "code",
   "execution_count": 17,
   "outputs": [],
   "source": [],
   "metadata": {
    "collapsed": false,
    "ExecuteTime": {
     "end_time": "2023-10-31T19:02:03.786461800Z",
     "start_time": "2023-10-31T19:02:03.764463300Z"
    }
   },
   "id": "6c6f0915206b5a3e"
  },
  {
   "cell_type": "code",
   "execution_count": 18,
   "outputs": [],
   "source": [
    "# torch.cuda.empty_cache()"
   ],
   "metadata": {
    "collapsed": false,
    "ExecuteTime": {
     "end_time": "2023-10-31T19:02:03.794465400Z",
     "start_time": "2023-10-31T19:02:03.779463Z"
    }
   },
   "id": "b95a685f2e1ad660"
  }
 ],
 "metadata": {
  "kernelspec": {
   "display_name": "Python 3",
   "language": "python",
   "name": "python3"
  },
  "language_info": {
   "codemirror_mode": {
    "name": "ipython",
    "version": 2
   },
   "file_extension": ".py",
   "mimetype": "text/x-python",
   "name": "python",
   "nbconvert_exporter": "python",
   "pygments_lexer": "ipython2",
   "version": "2.7.6"
  }
 },
 "nbformat": 4,
 "nbformat_minor": 5
}
